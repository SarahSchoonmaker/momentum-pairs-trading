{
 "cells": [
  {
   "cell_type": "code",
   "execution_count": 83,
   "metadata": {},
   "outputs": [],
   "source": [
    "import psycopg2 as pg\n",
    "from datetime import datetime, timedelta\n",
    "import pandas as pd\n",
    "import numpy as np\n",
    "import matplotlib.pyplot as plt\n",
    "%matplotlib inline"
   ]
  },
  {
   "cell_type": "markdown",
   "metadata": {},
   "source": [
    "### Retrieves the data from the postgres db"
   ]
  },
  {
   "cell_type": "code",
   "execution_count": 84,
   "metadata": {},
   "outputs": [],
   "source": [
    "# connect to the db\n",
    "con = pg.connect(\n",
    "    database = 'securities_master', \n",
    "    user = 'postgres', \n",
    "    )\n",
    "cur = con.cursor()\n",
    "\n",
    "command = \"\"\"SELECT price_date, adj_close_price, ticker, exchange_id FROM daily_price\n",
    "                JOIN symbol ON daily_price.symbol_id = symbol.id \n",
    "                WHERE exchange_id = 5 and price_date BETWEEN \n",
    "                   date '1999-12-31' and \n",
    "                   date '2014-12-31';\"\"\"\n",
    "\n",
    "cur.execute(command)\n",
    "rows = cur.fetchall()\n",
    "\n",
    "# close the cursor and connection\n",
    "cur.close()\n",
    "con.close()"
   ]
  },
  {
   "cell_type": "code",
   "execution_count": 85,
   "metadata": {},
   "outputs": [],
   "source": [
    "yday = (datetime.now() - timedelta(1)).strftime('%Y-%m-%d')"
   ]
  },
  {
   "cell_type": "markdown",
   "metadata": {},
   "source": [
    "### Reformats the data so that tickers are column headers"
   ]
  },
  {
   "cell_type": "code",
   "execution_count": 86,
   "metadata": {},
   "outputs": [],
   "source": [
    "# reformats the table\n",
    "df = pd.DataFrame(rows, columns = ['date', 'price', 'ticker', 'exchange_id'])\n",
    "df['price'] = pd.to_numeric(df['price'])\n",
    "df = df.pivot_table(index = 'date', columns = 'ticker', values = 'price')\n",
    "df.index = pd.to_datetime(df.index)"
   ]
  },
  {
   "cell_type": "markdown",
   "metadata": {},
   "source": [
    "# Analysis"
   ]
  },
  {
   "cell_type": "code",
   "execution_count": 87,
   "metadata": {},
   "outputs": [],
   "source": [
    "num_hldg = 30\n",
    "\n",
    "returns = df.pct_change()\n",
    "cum_returns = np.cumprod(1 + returns) - 1\n",
    "\n",
    "monthly_price = df.resample('BM').last()\n",
    "monthly_returns = monthly_price.pct_change().fillna(0)"
   ]
  },
  {
   "cell_type": "markdown",
   "metadata": {},
   "source": [
    "### Picks the top 30 performing strategies based on monthly returns"
   ]
  },
  {
   "cell_type": "code",
   "execution_count": 88,
   "metadata": {},
   "outputs": [],
   "source": [
    "# creates the positions df\n",
    "positions = pd.DataFrame(index = monthly_returns.index, columns = monthly_returns.columns)\n",
    "positions.loc[:,:] = 0\n",
    "\n",
    "for month in monthly_returns[1:].index:\n",
    "    sorted_list = monthly_returns.loc[month,:].sort_values(ascending = False)\n",
    "    buy_list = sorted_list[sorted_list < 1][:num_hldg]\n",
    "    positions.loc[month, buy_list.index] = 1 / num_hldg"
   ]
  },
  {
   "cell_type": "markdown",
   "metadata": {},
   "source": [
    "### Perfomance"
   ]
  },
  {
   "cell_type": "code",
   "execution_count": 89,
   "metadata": {},
   "outputs": [
    {
     "name": "stdout",
     "output_type": "stream",
     "text": [
      "count    181.000000\n",
      "mean       0.041467\n",
      "std        0.305724\n",
      "min       -0.134919\n",
      "25%       -0.013807\n",
      "50%        0.012951\n",
      "75%        0.034432\n",
      "max        2.946816\n",
      "dtype: float64\n",
      "0.32439441917936374 0.47115371853481913\n"
     ]
    },
    {
     "data": {
      "image/png": "[encoded data removed]",
      "text/plain": [
       "<Figure size 432x288 with 1 Axes>"
      ]
     },
     "metadata": {
      "needs_background": "light"
     },
     "output_type": "display_data"
    }
   ],
   "source": [
    "portfolio_returns = positions.shift() * monthly_returns\n",
    "total_porfolio_returns = portfolio_returns.sum(axis = 1)\n",
    "cum_portfolio_returns = np.cumprod(1 + total_porfolio_returns) - 1\n",
    "cum_portfolio_returns.plot()\n",
    "\n",
    "\n",
    "apr = np.prod(1 + total_porfolio_returns) ** (12 / len(total_porfolio_returns)) - 1\n",
    "sharpe = np.mean(total_porfolio_returns) / np.std(total_porfolio_returns) * np.sqrt(12)\n",
    "\n",
    "print(total_porfolio_returns.describe())\n",
    "print(apr, sharpe)"
   ]
  }
 ],
 "metadata": {
  "kernelspec": {
   "display_name": "Python 3",
   "language": "python",
   "name": "python3"
  },
  "language_info": {
   "codemirror_mode": {
    "name": "ipython",
    "version": 3
   },
   "file_extension": ".py",
   "mimetype": "text/x-python",
   "name": "python",
   "nbconvert_exporter": "python",
   "pygments_lexer": "ipython3",
   "version": "3.7.6"
  }
 },
 "nbformat": 4,
 "nbformat_minor": 2
}
